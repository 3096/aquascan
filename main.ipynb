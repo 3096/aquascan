{
 "cells": [
  {
   "cell_type": "code",
   "execution_count": 2,
   "outputs": [],
   "source": [
    "import utils"
   ],
   "metadata": {
    "collapsed": false,
    "ExecuteTime": {
     "end_time": "2023-12-06T04:28:17.692801900Z",
     "start_time": "2023-12-06T04:28:17.675209Z"
    }
   },
   "id": "237bd4242d591ab2"
  },
  {
   "cell_type": "markdown",
   "source": [
    "Gaussian Blur on the starting images"
   ],
   "metadata": {
    "collapsed": false
   },
   "id": "cc27b6de9aa7b229"
  },
  {
   "cell_type": "code",
   "execution_count": 5,
   "outputs": [],
   "source": [
    "from algorithms.Gaussian_Filter_Images.gaussian import gaussian_filter\n",
    "utils.process_dir('20_ARMS_JPEGS/', '.jpg', 'algorithms/Gaussian_Filter_Images/', '.png', gaussian_filter)"
   ],
   "metadata": {
    "collapsed": false,
    "ExecuteTime": {
     "end_time": "2023-12-06T04:33:03.365365300Z",
     "start_time": "2023-12-06T04:32:57.586800900Z"
    }
   },
   "id": "78c082c93408c8ad"
  },
  {
   "cell_type": "markdown",
   "source": [
    "Averaging filter on the starting images"
   ],
   "metadata": {
    "collapsed": false
   },
   "id": "d5a8993fd52359bf"
  },
  {
   "cell_type": "code",
   "execution_count": 6,
   "outputs": [],
   "source": [
    "from algorithms.Averaging_Images.averaging import averaging_filter\n",
    "utils.process_dir('20_ARMS_JPEGS/', '.jpg', 'algorithms/Averaging_Images/', '.png', averaging_filter)"
   ],
   "metadata": {
    "collapsed": false,
    "ExecuteTime": {
     "end_time": "2023-12-06T04:33:09.289211500Z",
     "start_time": "2023-12-06T04:33:04.112070200Z"
    }
   },
   "id": "b27ce8b16dcd0b05"
  },
  {
   "cell_type": "markdown",
   "source": [
    "Sobel Filter on the Gaussian Blur images"
   ],
   "metadata": {
    "collapsed": false
   },
   "id": "b6a5d981de098b2d"
  },
  {
   "cell_type": "code",
   "execution_count": 7,
   "outputs": [],
   "source": [
    "from algorithms.Sobel_Filter_Images.sobel import sobel_filter\n",
    "utils.process_dir('algorithms/Gaussian_Filter_Images/', '.png', 'algorithms/Sobel_Filter_Images/', '.png', sobel_filter)"
   ],
   "metadata": {
    "collapsed": false,
    "ExecuteTime": {
     "end_time": "2023-12-06T04:37:23.602861500Z",
     "start_time": "2023-12-06T04:37:17.394411600Z"
    }
   },
   "id": "d66e75d6e31ef135"
  },
  {
   "cell_type": "markdown",
   "source": [
    "contrast algorithm on the Gaussian Images"
   ],
   "metadata": {
    "collapsed": false
   },
   "id": "89ef889dd80f6d41"
  },
  {
   "cell_type": "code",
   "execution_count": 8,
   "outputs": [],
   "source": [
    "from algorithms.Contrast_Images.contrast import image_contrast\n",
    "utils.process_dir('algorithms/Gaussian_Filter_Images/', '.png', 'algorithms/Contrast_Images/', '.png', image_contrast)"
   ],
   "metadata": {
    "collapsed": false,
    "ExecuteTime": {
     "end_time": "2023-12-06T04:39:27.496335800Z",
     "start_time": "2023-12-06T04:39:21.006205200Z"
    }
   },
   "id": "21979c93de85797d"
  },
  {
   "cell_type": "markdown",
   "source": [
    "Canny Edge Detection"
   ],
   "metadata": {
    "collapsed": false
   },
   "id": "7678d68d9f5dc7af"
  },
  {
   "cell_type": "code",
   "execution_count": 9,
   "outputs": [],
   "source": [
    "from algorithms.Canny_Images.canny import canny\n",
    "utils.process_dir('algorithms/Gaussian_Filter_Images/', '.png', 'algorithms/Canny_Images/', '.png', canny)\n",
    "utils.process_dir('algorithms/Contrast_Images/', '.png', 'algorithms/Contrast_Canny_Images/', '.png', canny)"
   ],
   "metadata": {
    "collapsed": false,
    "ExecuteTime": {
     "end_time": "2023-12-06T04:49:33.276010900Z",
     "start_time": "2023-12-06T04:49:25.107774400Z"
    }
   },
   "id": "dbf6f2f164a24973"
  },
  {
   "cell_type": "markdown",
   "source": [
    "Hough Transform function on the Canny images"
   ],
   "metadata": {
    "collapsed": false
   },
   "id": "7476314930aa9844"
  },
  {
   "cell_type": "code",
   "execution_count": 11,
   "outputs": [],
   "source": [
    "from algorithms.Hough_Transform_Images.hough_transform import hough_circle_transform\n",
    "utils.process_dir('algorithms/Contrast_Canny_Images/', '.png', 'algorithms/Hough_Transform_Images/', '.png', hough_circle_transform)"
   ],
   "metadata": {
    "collapsed": false,
    "ExecuteTime": {
     "end_time": "2023-12-06T04:52:34.054825300Z",
     "start_time": "2023-12-06T04:52:20.192806200Z"
    }
   },
   "id": "fb8b19d9021cf644"
  }
 ],
 "metadata": {
  "kernelspec": {
   "display_name": "Python 3",
   "language": "python",
   "name": "python3"
  },
  "language_info": {
   "codemirror_mode": {
    "name": "ipython",
    "version": 2
   },
   "file_extension": ".py",
   "mimetype": "text/x-python",
   "name": "python",
   "nbconvert_exporter": "python",
   "pygments_lexer": "ipython2",
   "version": "2.7.6"
  }
 },
 "nbformat": 4,
 "nbformat_minor": 5
}
